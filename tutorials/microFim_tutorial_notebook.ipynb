{
  "nbformat": 4,
  "nbformat_minor": 0,
  "metadata": {
    "colab": {
      "name": "microFim tutorial.ipynb",
      "provenance": [],
      "collapsed_sections": []
    },
    "kernelspec": {
      "name": "python3",
      "display_name": "Python 3"
    },
    "language_info": {
      "name": "python"
    }
  },
  "cells": [
    {
      "cell_type": "markdown",
      "metadata": {
        "id": "ss5Mw-kRXXub"
      },
      "source": [
        "**Welcome to the microFim tutorial!**"
      ]
    },
    {
      "cell_type": "markdown",
      "metadata": {
        "id": "ItlrvCQ5tUtC"
      },
      "source": [
        "# Installing"
      ]
    },
    {
      "cell_type": "code",
      "metadata": {
        "id": "aejYXI6NtQ46"
      },
      "source": [
        "# conda installation"
      ],
      "execution_count": null,
      "outputs": []
    },
    {
      "cell_type": "code",
      "metadata": {
        "id": "Z98L0mwmtX0e"
      },
      "source": [
        "# pip installation"
      ],
      "execution_count": null,
      "outputs": []
    },
    {
      "cell_type": "code",
      "metadata": {
        "id": "ke6Lz2jVtYKW"
      },
      "source": [
        "# clone from github repository"
      ],
      "execution_count": null,
      "outputs": []
    },
    {
      "cell_type": "markdown",
      "metadata": {
        "id": "eV6ZxUc7taNa"
      },
      "source": [
        "# Running"
      ]
    },
    {
      "cell_type": "code",
      "metadata": {
        "id": "pTY5nSpDVAie"
      },
      "source": [
        "# check file path and correct input file position"
      ],
      "execution_count": null,
      "outputs": []
    },
    {
      "cell_type": "markdown",
      "metadata": {
        "id": "86hMyaYvtb_l"
      },
      "source": [
        "## Prepare data for FIM calculation"
      ]
    },
    {
      "cell_type": "markdown",
      "metadata": {
        "id": "bbpKwFUvVHPm"
      },
      "source": [
        "Mandatory data:\n",
        "\n",
        "*   taxa table (or feature table) (.tsv)\n",
        "*   metadata file (.tsv)\n",
        "\n",
        "\\\n",
        "\n",
        "Optional data:\n",
        "\n",
        "*   taxonomy file (.tsv)\n",
        "\n",
        "\\\n",
        "\n",
        "See in the tutorial folder for examples of each file type."
      ]
    },
    {
      "cell_type": "code",
      "metadata": {
        "id": "aX0jDFt9trcw"
      },
      "source": [
        "# conversions"
      ],
      "execution_count": null,
      "outputs": []
    },
    {
      "cell_type": "code",
      "metadata": {
        "id": "pSkDUHH7V0XF"
      },
      "source": [
        "# cleaning"
      ],
      "execution_count": null,
      "outputs": []
    },
    {
      "cell_type": "markdown",
      "metadata": {
        "id": "6jkhh3XQthMJ"
      },
      "source": [
        "## Fim calculation"
      ]
    },
    {
      "cell_type": "markdown",
      "metadata": {
        "id": "_Y3jx4xRV2ay"
      },
      "source": [
        "Mandatory file:\n",
        "\n",
        "\n",
        "*   parameters setting file (.csv)\n",
        "\n",
        "\\\n",
        "\n",
        "Download from xxx the template to be completed as user needs."
      ]
    },
    {
      "cell_type": "code",
      "metadata": {
        "id": "vPnrtNO3tr6Y"
      },
      "source": [
        "# fim calculation"
      ],
      "execution_count": null,
      "outputs": []
    },
    {
      "cell_type": "code",
      "metadata": {
        "id": "4X3WlXkaWNfk"
      },
      "source": [
        "# arm calculation (or together?)"
      ],
      "execution_count": null,
      "outputs": []
    },
    {
      "cell_type": "markdown",
      "metadata": {
        "id": "h4HgykOvSo3I"
      },
      "source": [
        "## Biodiversity analysis"
      ]
    },
    {
      "cell_type": "markdown",
      "metadata": {
        "id": "xHGgeKubWS8n"
      },
      "source": [
        "Biodiversity analysis and plots creation can be done in two ways:\n",
        "\n",
        "*   From command-line scripts (follow this tutorial for this option)\n",
        "*   Interactively from Dash application (see the next section 'Visualization' of this tutorial)\n",
        "\n"
      ]
    },
    {
      "cell_type": "markdown",
      "metadata": {
        "id": "KdBvMUhaWsXW"
      },
      "source": [
        "Mandatory: to perform biodiversity analysis and create plots from command-line interface, complete the 'biodiversity setting file (.csv)' available as template in the folder xxx."
      ]
    },
    {
      "cell_type": "code",
      "metadata": {
        "id": "502mAtSIU4CS"
      },
      "source": [
        "# upload biodiversity file"
      ],
      "execution_count": null,
      "outputs": []
    },
    {
      "cell_type": "code",
      "metadata": {
        "id": "-E7HR_sHXHzl"
      },
      "source": [
        "# run script"
      ],
      "execution_count": null,
      "outputs": []
    },
    {
      "cell_type": "markdown",
      "metadata": {
        "id": "5vJa_MHQtmAJ"
      },
      "source": [
        "## Visualization"
      ]
    },
    {
      "cell_type": "markdown",
      "metadata": {
        "id": "RjYXsBr_XNNO"
      },
      "source": [
        "Check that all the files are availble in the folder xxx. Then follow the tutorial."
      ]
    },
    {
      "cell_type": "code",
      "metadata": {
        "id": "kj2X2D2ItsdD"
      },
      "source": [
        "# run dashboard"
      ],
      "execution_count": null,
      "outputs": []
    },
    {
      "cell_type": "markdown",
      "metadata": {
        "id": "_13Kki56ts79"
      },
      "source": [
        "# Cite us!"
      ]
    },
    {
      "cell_type": "markdown",
      "metadata": {
        "id": "BHqIEFPXYGij"
      },
      "source": [
        "The tool was cited also in the biorXiv work and was used to test ARM on microbiome data xxx. \\\n",
        "Cite:"
      ]
    }
  ]
}