{
  "nbformat": 4,
  "nbformat_minor": 0,
  "metadata": {
    "colab": {
      "name": "microfim_tutorial_notebook.ipynb",
      "provenance": [],
      "collapsed_sections": [],
      "toc_visible": true
    },
    "kernelspec": {
      "name": "python3",
      "display_name": "Python 3"
    },
    "language_info": {
      "name": "python"
    }
  },
  "cells": [
    {
      "cell_type": "markdown",
      "metadata": {
        "id": "wugJz24DOCwc"
      },
      "source": [
        "# Installation"
      ]
    },
    {
      "cell_type": "markdown",
      "metadata": {
        "id": "1AaEWhzPO3j2"
      },
      "source": [
        "Materials avalaible in the repository:\n",
        "\n",
        "*   files for tests and tutorials (dir: **tutorials**)\n",
        "*   functions (dir: **functions**)\n",
        "*   template files to be filled (dir: **template_inputs**)\n",
        "*   guided scripts (**script_***)\n",
        "*   requirements.txt (for conda installation)\n",
        "\n",
        "\n",
        "\n",
        "\n"
      ]
    },
    {
      "cell_type": "markdown",
      "metadata": {
        "id": "Ee6isMtEOdEx"
      },
      "source": [
        "Prerequisites:\n",
        "\n",
        "*   Python > 3 (https://www.python.org/)\n",
        "*   Conda or Miniconda (https://conda.io/projects/conda/en/latest/user-guide/install/index.html)\n",
        "\n"
      ]
    },
    {
      "cell_type": "code",
      "metadata": {
        "id": "Iwh-TgBWFyjP"
      },
      "source": [
        "# cloning repository via git (or download zip folder drictly from the github page)\n",
        "\n",
        "git clone https://github.com/qLSLab/microFim.git"
      ],
      "execution_count": null,
      "outputs": []
    },
    {
      "cell_type": "code",
      "metadata": {
        "id": "fq0KNL4HODxG"
      },
      "source": [
        "# create conda env\n",
        "\n",
        "conda create --name microFIM --file requirements.txt --channel default --channel conda-forge --channel plotly"
      ],
      "execution_count": null,
      "outputs": []
    },
    {
      "cell_type": "markdown",
      "metadata": {
        "id": "MFCTei9VOEgX"
      },
      "source": [
        "# Script usage"
      ]
    },
    {
      "cell_type": "markdown",
      "metadata": {
        "id": "6KYZdOwqPmy-"
      },
      "source": [
        "Guided scripts must be run in the main directory (within microFIM, after cloning the repository and create the environment). The scripts are 'interactive', with auto-completion for an easy usage.\n",
        "\n",
        "We suggest to create a specific directory for your project, in order to set it for inputs and outputs."
      ]
    },
    {
      "cell_type": "code",
      "metadata": {
        "id": "zw3X7Ir3ORTs"
      },
      "source": [
        "python script_1_filtertable.py"
      ],
      "execution_count": null,
      "outputs": []
    },
    {
      "cell_type": "markdown",
      "metadata": {
        "id": "Ebx4zXH0zYcl"
      },
      "source": [
        "This script can be used to filter your otu/taxa table based on a list of samples.\n",
        "Files required and mandatory instructions:\n",
        "* otu/esv/taxa table - the column name of OTU or TAXA must be '#ID'\n",
        "* sample list  - the first row of your sample list must be '#SampleID'\n",
        "\n",
        "The script will ask you to set the input directory and the two files mentioned -\n",
        "otu/esv/taxa table and sample list. The format of the file does not matter at this stage,\n",
        "the script will ask you the type of separator.\n",
        "\n",
        "The output file will be a filtered CSV file saved into the input directory\n",
        "(in order to allow subsequent analysis)."
      ]
    },
    {
      "cell_type": "code",
      "metadata": {
        "id": "8ZhbfPmFkdHM"
      },
      "source": [
        "python script_2_tableconversion.py"
      ],
      "execution_count": null,
      "outputs": []
    },
    {
      "cell_type": "markdown",
      "metadata": {
        "id": "TKDDHa37zZB_"
      },
      "source": [
        "This script can be used to convert a otu/esv/taxa table into a list of transactions.\n",
        "At this stage, do not worry about the format of the input. The script will ask\n",
        "you which is the separator.\n",
        "\n",
        "The output will be saved as a list of transactions into input directory."
      ]
    },
    {
      "cell_type": "code",
      "metadata": {
        "id": "U9LGdXqGkcxL"
      },
      "source": [
        "python script_3_microfimcalculation.py"
      ],
      "execution_count": null,
      "outputs": []
    },
    {
      "cell_type": "markdown",
      "metadata": {
        "id": "cdmH97GYzaQv"
      },
      "source": [
        "This script calculate microbial patterns!\n",
        "Files:\n",
        "- otu/esv/taxa table previously converted in transactions\n",
        "- file with parameters in .csv format (support, zmin and zmax + type of report)\n",
        "    template available in the tutorial folder"
      ]
    },
    {
      "cell_type": "code",
      "metadata": {
        "id": "mT_shLFpkcze"
      },
      "source": [
        "script_4_additionalmeasures.py"
      ],
      "execution_count": null,
      "outputs": []
    },
    {
      "cell_type": "markdown",
      "metadata": {
        "id": "E2GOxGHvzZtK"
      },
      "source": [
        "This script calculate additional interest measures that can be used\n",
        "to filter results."
      ]
    },
    {
      "cell_type": "code",
      "metadata": {
        "id": "Qwk7rLz8kc17"
      },
      "source": [
        "# available very soon\n",
        "\n",
        "script_5_generatepatterntable.py"
      ],
      "execution_count": null,
      "outputs": []
    },
    {
      "cell_type": "code",
      "metadata": {
        "id": "VK6IIV87zT92"
      },
      "source": [
        "# available very soon\n",
        "\n",
        "script_6_generateplots.py"
      ],
      "execution_count": null,
      "outputs": []
    },
    {
      "cell_type": "markdown",
      "metadata": {
        "id": "0pbypp4gOJze"
      },
      "source": [
        "# Library usage\n"
      ]
    },
    {
      "cell_type": "markdown",
      "metadata": {
        "id": "W3urtkQtPnQ-"
      },
      "source": [
        "microFIM python functions were divided into thematic sections, in order to promote the integration of new functions and an easy development of the tool."
      ]
    },
    {
      "cell_type": "code",
      "metadata": {
        "id": "MC_K5av_OQ7k"
      },
      "source": [
        "import os\n",
        "import sys\n",
        "import pandas as pd\n",
        "import numpy as np\n",
        "import csv\n",
        "from csv import writer\n",
        "import readline\n",
        "import re\n",
        "import string\n",
        "\n",
        "import fim\n",
        "import functions.microdir as md\n",
        "import functions.microfim as mf\n",
        "import functions.microimport as mi\n",
        "import functions.microinterestmeasures as mim\n",
        "\n",
        "import plotly.express as px\n",
        "import seaborn as sns\n",
        "import matplotlib.pyplot as plt\n",
        "\n",
        "import plotly.graph_objects as go\n",
        "from plotly.subplots import make_subplots\n",
        "from sklearn.metrics import pairwise_distances\n",
        "from sklearn import manifold"
      ],
      "execution_count": null,
      "outputs": []
    },
    {
      "cell_type": "code",
      "metadata": {
        "id": "yNrLw3ga0Idu"
      },
      "source": [
        "# available very soon"
      ],
      "execution_count": null,
      "outputs": []
    },
    {
      "cell_type": "code",
      "metadata": {
        "id": "J_Q94idB0Is-"
      },
      "source": [
        "# available very soon"
      ],
      "execution_count": null,
      "outputs": []
    },
    {
      "cell_type": "code",
      "metadata": {
        "id": "-e3jQLPI0I6H"
      },
      "source": [
        "# available very soon"
      ],
      "execution_count": null,
      "outputs": []
    },
    {
      "cell_type": "markdown",
      "metadata": {
        "id": "DZei-UgSWlXu"
      },
      "source": [
        "# Integration in QIIME2 framework"
      ]
    },
    {
      "cell_type": "markdown",
      "metadata": {
        "id": "k-R0CIPvduij"
      },
      "source": [
        "## Export taxa tables for microFIM analysis"
      ]
    },
    {
      "cell_type": "code",
      "metadata": {
        "id": "4m3DZ4fNWnRB"
      },
      "source": [
        "# activate the env (if you do not installed QIIME2 yet, please see https://docs.qiime2.org/2021.8/getting-started/)\n",
        "\n",
        "conda activate qiime2-2020.8 # example version\n",
        "\n",
        "\n",
        "# export biom file form qza\n",
        "\n",
        "qiime tools export --input-path table.qza --output-path exported-feature-table\n",
        "\n",
        "\n",
        "# convert biom file to tsv\n",
        "\n",
        "biom convert -i exported-feature-table/feature-table.biom -o feature-table.tsv --to-tsv"
      ],
      "execution_count": null,
      "outputs": []
    },
    {
      "cell_type": "code",
      "metadata": {
        "id": "c0szuTJsGAp1"
      },
      "source": [
        "# substitue #OTU ID with #ID\n",
        "\n",
        "sed -i -e \"s/#OTU ID/#ID/g\" feature-table.tsv\n",
        "\n",
        "\n",
        "# remove first row\n",
        "\n",
        "sed -i '1d' feature-table.tsv\n",
        "\n",
        "\n",
        "## READY TO BE IMPORTED IN microFIM ##"
      ],
      "execution_count": null,
      "outputs": []
    },
    {
      "cell_type": "markdown",
      "metadata": {
        "id": "b0efzf4ddw7R"
      },
      "source": [
        "## Import pattern tables in qza format to perform QIIME2 analysis"
      ]
    },
    {
      "cell_type": "markdown",
      "metadata": {
        "id": "NU0CpEFCUuK7"
      },
      "source": [
        "Change 'Pattern' column in #OTU ID before converting."
      ]
    },
    {
      "cell_type": "code",
      "metadata": {
        "id": "dDQ0LV7ydy5U"
      },
      "source": [
        "# convert in biom file\n",
        "\n",
        "biom convert -i pattern_table_test.tsv \\\n",
        "  -o pattern_table_test.biom --table-type=\"OTU table\" --to-json\n",
        "\n",
        "\n",
        "# import in qiime2\n",
        "\n",
        "qiime tools import \\\n",
        "  --input-path pattern_table_test.biom \\\n",
        "  --type 'FeatureTable[Frequency]' \\\n",
        "  --input-format BIOMV100Format \\\n",
        "  --output-path pattern_table_test.qza"
      ],
      "execution_count": null,
      "outputs": []
    }
  ]
}